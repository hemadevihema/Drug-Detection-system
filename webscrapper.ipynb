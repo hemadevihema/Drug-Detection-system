{
  "nbformat": 4,
  "nbformat_minor": 0,
  "metadata": {
    "colab": {
      "provenance": []
    },
    "kernelspec": {
      "name": "python3",
      "display_name": "Python 3"
    },
    "language_info": {
      "name": "python"
    }
  },
  "cells": [
    {
      "cell_type": "code",
      "execution_count": null,
      "metadata": {
        "id": "J4wFBBIvDDhG"
      },
      "outputs": [],
      "source": [
        "#imports here\n",
        "from selenium import webdriver\n",
        "from selenium.webdriver.common.keys import Keys\n",
        "from selenium.webdriver.support import expected_conditions as EC\n",
        "from selenium.webdriver.common.by import By\n",
        "from selenium.webdriver.support.wait import WebDriverWait\n",
        "import time"
      ]
    },
    {
      "cell_type": "code",
      "source": [
        "#specify the path to chromedriver.exe (download and save on your computer)\n",
        "driver = webdriver.Firefox()\n",
        "\n",
        "#open the webpage\n",
        "driver.get(\"http://www.instagram.com\")\n",
        "\n",
        "#target username\n",
        "username = WebDriverWait(driver, 10).until(EC.element_to_be_clickable((By.CSS_SELECTOR, \"input[name='username']\")))\n",
        "password = WebDriverWait(driver, 10).until(EC.element_to_be_clickable((By.CSS_SELECTOR, \"input[name='password']\")))\n",
        "\n",
        "#enter username and password\n",
        "username.clear()\n",
        "username.send_keys(\"my_username\")\n",
        "password.clear()\n",
        "password.send_keys(\"my_password\")\n",
        "\n",
        "#target the login button and click it\n",
        "button = WebDriverWait(driver, 2).until(EC.element_to_be_clickable((By.CSS_SELECTOR, \"button[type='submit']\"))).click()\n",
        "\n",
        "#We are logged in!\n",
        "\n"
      ],
      "metadata": {
        "id": "2U83CNx2Gf07"
      },
      "execution_count": null,
      "outputs": []
    },
    {
      "cell_type": "code",
      "source": [
        "\n",
        "\n",
        "time.sleep(5)\n",
        "alert = WebDriverWait(driver, 15).until(EC.element_to_be_clickable((By.XPATH, '//button[contains(text(), \"Not Now\")]'))).click()\n",
        "#alert2 = WebDriverWait(driver, 15).until(EC.element_to_be_clickable((By.XPATH, '//button[contains(text(), \"Not Now\")]'))).click()\n",
        "\n"
      ],
      "metadata": {
        "id": "JRVzF70tHrLb"
      },
      "execution_count": null,
      "outputs": []
    },
    {
      "cell_type": "code",
      "source": [
        "#target the search input field\n",
        "searchbox = WebDriverWait(driver, 10).until(EC.element_to_be_clickable((By.XPATH, \"//input[@placeholder='Search']\")))\n",
        "searchbox.clear()\n",
        "\n",
        "#search for the hashtag cat\n",
        "keyword = \"#cat\"\n",
        "searchbox.send_keys(keyword)\n",
        "\n",
        "#FIXING THE DOUBLE ENTER\n",
        "time.sleep(5) # Wait for 5 seconds\n",
        "my_link = WebDriverWait(driver, 10).until(EC.element_to_be_clickable((By.XPATH, \"//a[contains(@href, '/\" + keyword[1:] + \"/')]\")))\n",
        "my_link.click()"
      ],
      "metadata": {
        "id": "vymafw1uHuNs"
      },
      "execution_count": null,
      "outputs": []
    },
    {
      "cell_type": "code",
      "source": [
        "#scroll down 2 times\n",
        "#increase the range to sroll more\n",
        "n_scrolls = 2\n",
        "for j in range(0, n_scrolls):\n",
        "    driver.execute_script(\"window.scrollTo(0, document.body.scrollHeight);\")\n",
        "    time.sleep(5)"
      ],
      "metadata": {
        "id": "t8x8QX2tH6wD"
      },
      "execution_count": null,
      "outputs": []
    },
    {
      "cell_type": "code",
      "source": [
        "#target all the link elements on the page\n",
        "anchors = driver.find_elements_by_tag_name('a')\n",
        "anchors = [a.get_attribute('href') for a in anchors]\n",
        "#narrow down all links to image links only\n",
        "anchors = [a for a in anchors if str(a).startswith(\"https://www.instagram.com/p/\")]\n",
        "\n",
        "print('Found ' + str(len(anchors)) + ' links to images')\n",
        "anchors[:5]"
      ],
      "metadata": {
        "id": "Jim_rpR-IAXG"
      },
      "execution_count": null,
      "outputs": []
    },
    {
      "cell_type": "code",
      "source": [
        "images = []\n",
        "\n",
        "#follow each image link and extract only image at index=1\n",
        "for a in anchors:\n",
        "    driver.get(a)\n",
        "    time.sleep(5)\n",
        "    img = driver.find_elements_by_tag_name('img')\n",
        "    img = [i.get_attribute('src') for i in img]\n",
        "    images.append(img[1])\n",
        "\n",
        "images[:5]"
      ],
      "metadata": {
        "id": "yWIIHk1oIGQj"
      },
      "execution_count": null,
      "outputs": []
    }
  ]
}